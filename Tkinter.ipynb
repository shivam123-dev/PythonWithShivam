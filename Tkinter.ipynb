{
 "cells": [
  {
   "cell_type": "markdown",
   "metadata": {},
   "source": [
    "# Tkinter\n",
    "It is used for graphic user interface"
   ]
  },
  {
   "cell_type": "code",
   "execution_count": null,
   "metadata": {},
   "outputs": [],
   "source": [
    "from tkinter import*\n",
    "\n",
    "window = Tk()\n",
    "\n",
    "# Used for giving title\n",
    "window.title(\"My Program\")\n",
    "# Used for labelling\n",
    "ani = Label(window,text = \"I am Shivam\",fg = 'yellowgreen')\n",
    "# Used for placing the label\n",
    "ani.place(x = 50,y = 40)\n",
    "# This is a button\n",
    "# fg = foreground color, bg = background color, bd = border\n",
    "# ab = Button(window,text = \"Enter your Name\",fg=\"cyan\", bg = \"black\")\n",
    "ab = Button(window,text = \"Press for yes\",fg=\"cyan\", bg = \"black\")\n",
    "ab.place(x = 60, y = 80)\n",
    "\n",
    "# entrying a data\n",
    "cat = Entry(window,text=\"enter your name\",bd = 20,bg = \"red\")\n",
    "cat.place(x=60,y=120)\n",
    "\n",
    "# Creating a checkpoint/checkbox\n",
    "a = IntVar()\n",
    "b = IntVar()\n",
    "c1 = Checkbutton(window,text = \"Shivam\", variable=a)\n",
    "c2 = Checkbutton(window,text = \"Aniket\", variable=b)\n",
    "# x matlb aage peeche aur y matlb upar neeche\n",
    "c1.place(x=60,y=180)\n",
    "c2.place(x=160,y=180)\n",
    "# Used for exiting\n",
    "window.mainloop()\n",
    "\n"
   ]
  },
  {
   "cell_type": "code",
   "execution_count": null,
   "metadata": {},
   "outputs": [],
   "source": []
  }
 ],
 "metadata": {
  "kernelspec": {
   "display_name": "Python 3",
   "language": "python",
   "name": "python3"
  },
  "language_info": {
   "codemirror_mode": {
    "name": "ipython",
    "version": 3
   },
   "file_extension": ".py",
   "mimetype": "text/x-python",
   "name": "python",
   "nbconvert_exporter": "python",
   "pygments_lexer": "ipython3",
   "version": "3.8.5"
  }
 },
 "nbformat": 4,
 "nbformat_minor": 4
}

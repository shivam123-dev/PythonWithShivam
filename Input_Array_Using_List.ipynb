{
 "cells": [
  {
   "cell_type": "code",
   "execution_count": 11,
   "metadata": {},
   "outputs": [
    {
     "name": "stdout",
     "output_type": "stream",
     "text": [
      "1.19.2\n"
     ]
    }
   ],
   "source": [
    "import numpy as np\n",
    "print(np.__version__) # prints the version of the numpy"
   ]
  },
  {
   "cell_type": "code",
   "execution_count": 12,
   "metadata": {},
   "outputs": [],
   "source": [
    "# for taking input from user\n",
    "\n",
    "a = [] # initialising the list\n",
    "n = int(input()) # taking the size of the list\n",
    "for i in range(0,n):\n",
    "    b = int(input('Enter a number '))\n",
    "    a.append(b) # for adding the input 'b' to the list 'a'\n",
    "# c = np.array(a) \n",
    "# d = np.arange(10) -> [0 1 2 3 4 5 6 7 8 9]\n",
    "# d = np.arange(1,10,2) (starting point,ending point, no. of increment) -> [1 3 5 7 9]\n",
    "print(c)\n",
    "print(a)\n",
    "print(d)"
   ]
  },
  {
   "cell_type": "code",
   "execution_count": 16,
   "metadata": {},
   "outputs": [],
   "source": [
    "## a = np.array([0,1,2,9,4]) # one-dimensional array\n",
    "# print(a)\n",
    "\n",
    "# print(a[2]) # for printing the element at 2nd position"
   ]
  },
  {
   "cell_type": "code",
   "execution_count": null,
   "metadata": {},
   "outputs": [],
   "source": []
  }
 ],
 "metadata": {
  "kernelspec": {
   "display_name": "Python 3",
   "language": "python",
   "name": "python3"
  },
  "language_info": {
   "codemirror_mode": {
    "name": "ipython",
    "version": 3
   },
   "file_extension": ".py",
   "mimetype": "text/x-python",
   "name": "python",
   "nbconvert_exporter": "python",
   "pygments_lexer": "ipython3",
   "version": "3.8.5"
  }
 },
 "nbformat": 4,
 "nbformat_minor": 4
}

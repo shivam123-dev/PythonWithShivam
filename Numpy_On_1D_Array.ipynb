{
 "cells": [
  {
   "cell_type": "code",
   "execution_count": 23,
   "metadata": {},
   "outputs": [
    {
     "name": "stdout",
     "output_type": "stream",
     "text": [
      "[0 1 2 3 4 5]\n",
      "[1 3 5]\n",
      "[ 0 -1  2 -1  4 -1]\n",
      "[0 0 0 0 0 0]\n",
      "[0 1 0 3 4 5]\n",
      "[1 3 5]\n",
      "(array([3], dtype=int64),)\n"
     ]
    }
   ],
   "source": [
    "import numpy as np\n",
    "ani = np.arange(6)\n",
    "print(ani) # prints the range from 0 to 6\n",
    "\n",
    "# Printing the odd parts only\n",
    "b=ani[ani%2==1]   # array_name[conditon(or required array to print)]\n",
    "print(b)\n",
    "\n",
    "# Changing the odd parts to -1\n",
    "c = np.where(ani%2==1,-1,ani)   # Used to change/replace any element of array\n",
    "print(c)\n",
    "\n",
    "d = np.where(ani[2]==2,0,ani)  # true for all elements of the array\n",
    "print(d)\n",
    "\n",
    "e = np.where(ani==2,0,ani) # to change a specific element\n",
    "print(e)\n",
    "\n",
    "ket = np.array([1,3,5,3,7,9])\n",
    "tek = np.intersect1d(ani,ket)  # to find common element between two elements\n",
    "print(tek)\n",
    "\n",
    "# position of common elements between two arrays\n",
    "print(np.where(ani==ket))"
   ]
  },
  {
   "cell_type": "code",
   "execution_count": 25,
   "metadata": {},
   "outputs": [
    {
     "name": "stdout",
     "output_type": "stream",
     "text": [
      "[ 0  1  2  3  4  5 34 60 63]\n"
     ]
    }
   ],
   "source": [
    "# Used for adding the elements\n",
    "f = np.append(ani,[34,60,63])\n",
    "print(f)"
   ]
  },
  {
   "cell_type": "code",
   "execution_count": 26,
   "metadata": {},
   "outputs": [
    {
     "name": "stdout",
     "output_type": "stream",
     "text": [
      "[ 0  3 10  9 28 45]\n"
     ]
    }
   ],
   "source": [
    "print(ani*ket)"
   ]
  },
  {
   "cell_type": "code",
   "execution_count": 29,
   "metadata": {},
   "outputs": [
    {
     "name": "stdout",
     "output_type": "stream",
     "text": [
      "<class 'numpy.ndarray'>\n"
     ]
    }
   ],
   "source": [
    "print(type(ani))"
   ]
  },
  {
   "cell_type": "code",
   "execution_count": null,
   "metadata": {},
   "outputs": [],
   "source": []
  }
 ],
 "metadata": {
  "kernelspec": {
   "display_name": "Python 3",
   "language": "python",
   "name": "python3"
  },
  "language_info": {
   "codemirror_mode": {
    "name": "ipython",
    "version": 3
   },
   "file_extension": ".py",
   "mimetype": "text/x-python",
   "name": "python",
   "nbconvert_exporter": "python",
   "pygments_lexer": "ipython3",
   "version": "3.8.5"
  }
 },
 "nbformat": 4,
 "nbformat_minor": 4
}

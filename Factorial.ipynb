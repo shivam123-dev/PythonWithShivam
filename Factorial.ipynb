num = int(input("Enter a number: "))
fact = 1
if num<0:
  print("Factorial for negative number does not exist")
elif num==0:
  print("Factorial of 0 is 1")
else:
  for i in range(1,num+1):
    fact = fact*i
  print("Factorial of",num,"is",fact)

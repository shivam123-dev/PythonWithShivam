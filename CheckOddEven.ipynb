num = int(input("Enter a number: "))
if num%2==0:
  print("Odd Number")
else:
  print("Even Number")

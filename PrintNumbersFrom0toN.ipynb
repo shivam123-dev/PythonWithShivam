N = int(input("Enter a number: "))
for i in range(0,N+1):
  print(i,end="")
print("\nLoop Ended")

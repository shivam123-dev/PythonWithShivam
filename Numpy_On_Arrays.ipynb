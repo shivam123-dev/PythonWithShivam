{
 "cells": [
  {
   "cell_type": "code",
   "execution_count": 2,
   "metadata": {},
   "outputs": [],
   "source": [
    "import numpy as np"
   ]
  },
  {
   "cell_type": "code",
   "execution_count": 7,
   "metadata": {},
   "outputs": [
    {
     "name": "stdout",
     "output_type": "stream",
     "text": [
      "42\n"
     ]
    }
   ],
   "source": [
    "# zero dimensional array\n",
    "c = np.array(42)\n",
    "print(c)"
   ]
  },
  {
   "cell_type": "code",
   "execution_count": 6,
   "metadata": {},
   "outputs": [
    {
     "name": "stdout",
     "output_type": "stream",
     "text": [
      "[1 2 3]\n"
     ]
    }
   ],
   "source": [
    "# one dimensional array\n",
    "a = np.array([1,2,3])\n",
    "print(a)"
   ]
  },
  {
   "cell_type": "code",
   "execution_count": 3,
   "metadata": {},
   "outputs": [
    {
     "name": "stdout",
     "output_type": "stream",
     "text": [
      "[[1 2 3]\n",
      " [3 2 1]]\n",
      "(2, 3)\n"
     ]
    }
   ],
   "source": [
    "# two dimensional array\n",
    "b = np.array([[1,2,3],[3,2,1]])\n",
    "print(b)\n",
    "print(b.shape) # gives the shape of matrix"
   ]
  },
  {
   "cell_type": "code",
   "execution_count": 4,
   "metadata": {},
   "outputs": [
    {
     "name": "stdout",
     "output_type": "stream",
     "text": [
      "[[1 2]\n",
      " [3 3]\n",
      " [2 1]]\n"
     ]
    }
   ],
   "source": [
    "print(b.reshape(3,2)) # reshapes the matrix "
   ]
  },
  {
   "cell_type": "code",
   "execution_count": 5,
   "metadata": {},
   "outputs": [
    {
     "name": "stdout",
     "output_type": "stream",
     "text": [
      "[[1 3]\n",
      " [2 2]\n",
      " [3 1]]\n"
     ]
    }
   ],
   "source": [
    "print(b.transpose()) # prints the transpose of the matrix"
   ]
  },
  {
   "cell_type": "code",
   "execution_count": 8,
   "metadata": {},
   "outputs": [
    {
     "name": "stdout",
     "output_type": "stream",
     "text": [
      "[[1 2 3 1 2 3 1 2 3 1 2 3]\n",
      " [3 2 1 3 2 1 3 2 1 3 2 1]]\n"
     ]
    }
   ],
   "source": [
    "# for making n number of copy \n",
    "d = np.tile(b,4)\n",
    "print(d)\n",
    "\n",
    "e = np.tile(b,reps=[2,2]) # [x,y] or reps=[x,y]\n",
    "print(e)\n",
    "\n",
    "f = np.tile(b,[3,2])\n",
    "print(f)"
   ]
  },
  {
   "cell_type": "code",
   "execution_count": 16,
   "metadata": {},
   "outputs": [
    {
     "name": "stdout",
     "output_type": "stream",
     "text": [
      "[[1 2 3 2 4 6]\n",
      " [3 2 1 1 2 3]]\n"
     ]
    }
   ],
   "source": [
    "ket = np.array([[2,4,6],[1,2,3]])\n",
    "# con = np.concatenate((b,ket))  # for merging two arrays 'ket' and 'b' \n",
    "con = np.concatenate((b,ket),axis = 1)  # axis = 1 => merge along y axis, by default axis = 0 => merge along x axis \n",
    "print(con)\n"
   ]
  },
  {
   "cell_type": "code",
   "execution_count": 18,
   "metadata": {},
   "outputs": [
    {
     "name": "stdout",
     "output_type": "stream",
     "text": [
      "[[3 6 9]\n",
      " [4 4 4]]\n",
      "[[0.5        0.5        0.5       ]\n",
      " [3.         1.         0.33333333]]\n"
     ]
    }
   ],
   "source": [
    "# Mathematical Operations\n",
    "print(b + ket)\n",
    "print(b/ket)"
   ]
  },
  {
   "cell_type": "code",
   "execution_count": 19,
   "metadata": {},
   "outputs": [
    {
     "name": "stdout",
     "output_type": "stream",
     "text": [
      "[[1. 2. 3.]\n",
      " [3. 2. 1.]]\n"
     ]
    }
   ],
   "source": [
    "# for converting 'int' array to 'float'\n",
    "print(b.astype(float))"
   ]
  },
  {
   "cell_type": "code",
   "execution_count": null,
   "metadata": {},
   "outputs": [],
   "source": []
  }
 ],
 "metadata": {
  "kernelspec": {
   "display_name": "Python 3",
   "language": "python",
   "name": "python3"
  },
  "language_info": {
   "codemirror_mode": {
    "name": "ipython",
    "version": 3
   },
   "file_extension": ".py",
   "mimetype": "text/x-python",
   "name": "python",
   "nbconvert_exporter": "python",
   "pygments_lexer": "ipython3",
   "version": "3.8.5"
  }
 },
 "nbformat": 4,
 "nbformat_minor": 4
}
